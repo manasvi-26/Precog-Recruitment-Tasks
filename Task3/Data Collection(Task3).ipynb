{
 "cells": [
  {
   "cell_type": "markdown",
   "metadata": {},
   "source": [
    "# Parsing and Collecting data from the given XML files"
   ]
  },
  {
   "cell_type": "markdown",
   "metadata": {},
   "source": [
    "### Importing Required Modules:"
   ]
  },
  {
   "cell_type": "code",
   "execution_count": 1,
   "metadata": {},
   "outputs": [],
   "source": [
    "import elementpath\n",
    "from xml.etree import ElementTree as et\n",
    "import pandas as pd\n",
    "import json"
   ]
  },
  {
   "cell_type": "markdown",
   "metadata": {},
   "source": [
    "### Collecting Data for small Files : Tags.xml and User.xml"
   ]
  },
  {
   "cell_type": "markdown",
   "metadata": {},
   "source": [
    "### Tags.xml -"
   ]
  },
  {
   "cell_type": "code",
   "execution_count": 2,
   "metadata": {},
   "outputs": [],
   "source": [
    "xtree = et.parse(\"./data/Tags.xml\")"
   ]
  },
  {
   "cell_type": "code",
   "execution_count": 3,
   "metadata": {},
   "outputs": [],
   "source": [
    "xroot = xtree.getroot()"
   ]
  },
  {
   "cell_type": "markdown",
   "metadata": {},
   "source": [
    "#### XML to Dataframe:"
   ]
  },
  {
   "cell_type": "code",
   "execution_count": 3,
   "metadata": {},
   "outputs": [],
   "source": [
    "## Function used to parse through small files using xml:\n",
    "\n",
    "def parse_xml(xml_file,df_cols):\n",
    "    \n",
    "    xtree = et.parse(xml_file)\n",
    "    xroot = xtree.getroot()\n",
    "    print(\"yes\")\n",
    "    rows = []\n",
    "    \n",
    "    for node in xroot: \n",
    "        res = []\n",
    "        res.append(node.attrib.get(df_cols[0]))\n",
    "        try:\n",
    "            for el in df_cols[1:]: \n",
    "                if node is not None and node.attrib.get(el) is not None:\n",
    "                    res.append(node.attrib.get(el))\n",
    "                else: \n",
    "                    res.append(None)\n",
    "            rows.append({df_cols[i]: res[i] \n",
    "                         for i, _ in enumerate(df_cols)})\n",
    "        except Error as e:\n",
    "            print(e)\n",
    "            continue\n",
    "        \n",
    "    \n",
    "    out_df = pd.DataFrame(rows, columns=df_cols)\n",
    "        \n",
    "    return out_df"
   ]
  },
  {
   "cell_type": "code",
   "execution_count": 42,
   "metadata": {},
   "outputs": [],
   "source": [
    "df = parse_xml(\"./data/Tags.xml\", [\"Id\", \"TagName\", \"Count\", \"ExcerptPostId\",\"WikiPostId\"])"
   ]
  },
  {
   "cell_type": "code",
   "execution_count": 43,
   "metadata": {},
   "outputs": [
    {
     "data": {
      "text/html": [
       "<div>\n",
       "<style scoped>\n",
       "    .dataframe tbody tr th:only-of-type {\n",
       "        vertical-align: middle;\n",
       "    }\n",
       "\n",
       "    .dataframe tbody tr th {\n",
       "        vertical-align: top;\n",
       "    }\n",
       "\n",
       "    .dataframe thead th {\n",
       "        text-align: right;\n",
       "    }\n",
       "</style>\n",
       "<table border=\"1\" class=\"dataframe\">\n",
       "  <thead>\n",
       "    <tr style=\"text-align: right;\">\n",
       "      <th></th>\n",
       "      <th>Id</th>\n",
       "      <th>TagName</th>\n",
       "      <th>Count</th>\n",
       "      <th>ExcerptPostId</th>\n",
       "      <th>WikiPostId</th>\n",
       "    </tr>\n",
       "  </thead>\n",
       "  <tbody>\n",
       "    <tr>\n",
       "      <th>0</th>\n",
       "      <td>1</td>\n",
       "      <td>.net</td>\n",
       "      <td>293379</td>\n",
       "      <td>3624959</td>\n",
       "      <td>3607476</td>\n",
       "    </tr>\n",
       "    <tr>\n",
       "      <th>1</th>\n",
       "      <td>2</td>\n",
       "      <td>html</td>\n",
       "      <td>970699</td>\n",
       "      <td>3673183</td>\n",
       "      <td>3673182</td>\n",
       "    </tr>\n",
       "    <tr>\n",
       "      <th>2</th>\n",
       "      <td>3</td>\n",
       "      <td>javascript</td>\n",
       "      <td>1955557</td>\n",
       "      <td>3624960</td>\n",
       "      <td>3607052</td>\n",
       "    </tr>\n",
       "    <tr>\n",
       "      <th>3</th>\n",
       "      <td>4</td>\n",
       "      <td>css</td>\n",
       "      <td>649436</td>\n",
       "      <td>3644670</td>\n",
       "      <td>3644669</td>\n",
       "    </tr>\n",
       "    <tr>\n",
       "      <th>4</th>\n",
       "      <td>5</td>\n",
       "      <td>php</td>\n",
       "      <td>1335050</td>\n",
       "      <td>3624936</td>\n",
       "      <td>3607050</td>\n",
       "    </tr>\n",
       "    <tr>\n",
       "      <th>...</th>\n",
       "      <td>...</td>\n",
       "      <td>...</td>\n",
       "      <td>...</td>\n",
       "      <td>...</td>\n",
       "      <td>...</td>\n",
       "    </tr>\n",
       "    <tr>\n",
       "      <th>57459</th>\n",
       "      <td>143155</td>\n",
       "      <td>next-jdbc</td>\n",
       "      <td>1</td>\n",
       "      <td>None</td>\n",
       "      <td>None</td>\n",
       "    </tr>\n",
       "    <tr>\n",
       "      <th>57460</th>\n",
       "      <td>143156</td>\n",
       "      <td>android-jetpack-security</td>\n",
       "      <td>1</td>\n",
       "      <td>60470204</td>\n",
       "      <td>60470203</td>\n",
       "    </tr>\n",
       "    <tr>\n",
       "      <th>57461</th>\n",
       "      <td>143157</td>\n",
       "      <td>android-kotlin</td>\n",
       "      <td>0</td>\n",
       "      <td>None</td>\n",
       "      <td>None</td>\n",
       "    </tr>\n",
       "    <tr>\n",
       "      <th>57462</th>\n",
       "      <td>143158</td>\n",
       "      <td>swashbuckle.aspnetcore</td>\n",
       "      <td>1</td>\n",
       "      <td>None</td>\n",
       "      <td>None</td>\n",
       "    </tr>\n",
       "    <tr>\n",
       "      <th>57463</th>\n",
       "      <td>143159</td>\n",
       "      <td>pointdns</td>\n",
       "      <td>1</td>\n",
       "      <td>None</td>\n",
       "      <td>None</td>\n",
       "    </tr>\n",
       "  </tbody>\n",
       "</table>\n",
       "<p>57464 rows × 5 columns</p>\n",
       "</div>"
      ],
      "text/plain": [
       "           Id                   TagName    Count ExcerptPostId WikiPostId\n",
       "0           1                      .net   293379       3624959    3607476\n",
       "1           2                      html   970699       3673183    3673182\n",
       "2           3                javascript  1955557       3624960    3607052\n",
       "3           4                       css   649436       3644670    3644669\n",
       "4           5                       php  1335050       3624936    3607050\n",
       "...       ...                       ...      ...           ...        ...\n",
       "57459  143155                 next-jdbc        1          None       None\n",
       "57460  143156  android-jetpack-security        1      60470204   60470203\n",
       "57461  143157            android-kotlin        0          None       None\n",
       "57462  143158    swashbuckle.aspnetcore        1          None       None\n",
       "57463  143159                  pointdns        1          None       None\n",
       "\n",
       "[57464 rows x 5 columns]"
      ]
     },
     "metadata": {},
     "output_type": "display_data"
    }
   ],
   "source": [
    "display(df)"
   ]
  },
  {
   "cell_type": "markdown",
   "metadata": {},
   "source": [
    "### Converting to Tags.json (will pass this into local mongodb using mongo import)"
   ]
  },
  {
   "cell_type": "code",
   "execution_count": 45,
   "metadata": {},
   "outputs": [],
   "source": [
    "out = df.to_json(orient='records')[1:-1].replace('},{', '}\\n {')\n",
    "with open('./data/Tags.json', 'w') as f:\n",
    "    f.write(out)\n"
   ]
  },
  {
   "cell_type": "markdown",
   "metadata": {},
   "source": [
    "#### Testing:"
   ]
  },
  {
   "cell_type": "code",
   "execution_count": 47,
   "metadata": {},
   "outputs": [],
   "source": [
    "df2 = pd.read_json(\"./data/Tags.json\",lines = True)"
   ]
  },
  {
   "cell_type": "code",
   "execution_count": 48,
   "metadata": {},
   "outputs": [
    {
     "data": {
      "text/html": [
       "<div>\n",
       "<style scoped>\n",
       "    .dataframe tbody tr th:only-of-type {\n",
       "        vertical-align: middle;\n",
       "    }\n",
       "\n",
       "    .dataframe tbody tr th {\n",
       "        vertical-align: top;\n",
       "    }\n",
       "\n",
       "    .dataframe thead th {\n",
       "        text-align: right;\n",
       "    }\n",
       "</style>\n",
       "<table border=\"1\" class=\"dataframe\">\n",
       "  <thead>\n",
       "    <tr style=\"text-align: right;\">\n",
       "      <th></th>\n",
       "      <th>Id</th>\n",
       "      <th>TagName</th>\n",
       "      <th>Count</th>\n",
       "      <th>ExcerptPostId</th>\n",
       "      <th>WikiPostId</th>\n",
       "    </tr>\n",
       "  </thead>\n",
       "  <tbody>\n",
       "    <tr>\n",
       "      <th>0</th>\n",
       "      <td>1</td>\n",
       "      <td>.net</td>\n",
       "      <td>293379</td>\n",
       "      <td>3624959.0</td>\n",
       "      <td>3607476.0</td>\n",
       "    </tr>\n",
       "    <tr>\n",
       "      <th>1</th>\n",
       "      <td>2</td>\n",
       "      <td>html</td>\n",
       "      <td>970699</td>\n",
       "      <td>3673183.0</td>\n",
       "      <td>3673182.0</td>\n",
       "    </tr>\n",
       "    <tr>\n",
       "      <th>2</th>\n",
       "      <td>3</td>\n",
       "      <td>javascript</td>\n",
       "      <td>1955557</td>\n",
       "      <td>3624960.0</td>\n",
       "      <td>3607052.0</td>\n",
       "    </tr>\n",
       "    <tr>\n",
       "      <th>3</th>\n",
       "      <td>4</td>\n",
       "      <td>css</td>\n",
       "      <td>649436</td>\n",
       "      <td>3644670.0</td>\n",
       "      <td>3644669.0</td>\n",
       "    </tr>\n",
       "    <tr>\n",
       "      <th>4</th>\n",
       "      <td>5</td>\n",
       "      <td>php</td>\n",
       "      <td>1335050</td>\n",
       "      <td>3624936.0</td>\n",
       "      <td>3607050.0</td>\n",
       "    </tr>\n",
       "    <tr>\n",
       "      <th>...</th>\n",
       "      <td>...</td>\n",
       "      <td>...</td>\n",
       "      <td>...</td>\n",
       "      <td>...</td>\n",
       "      <td>...</td>\n",
       "    </tr>\n",
       "    <tr>\n",
       "      <th>57459</th>\n",
       "      <td>143155</td>\n",
       "      <td>next-jdbc</td>\n",
       "      <td>1</td>\n",
       "      <td>NaN</td>\n",
       "      <td>NaN</td>\n",
       "    </tr>\n",
       "    <tr>\n",
       "      <th>57460</th>\n",
       "      <td>143156</td>\n",
       "      <td>android-jetpack-security</td>\n",
       "      <td>1</td>\n",
       "      <td>60470204.0</td>\n",
       "      <td>60470203.0</td>\n",
       "    </tr>\n",
       "    <tr>\n",
       "      <th>57461</th>\n",
       "      <td>143157</td>\n",
       "      <td>android-kotlin</td>\n",
       "      <td>0</td>\n",
       "      <td>NaN</td>\n",
       "      <td>NaN</td>\n",
       "    </tr>\n",
       "    <tr>\n",
       "      <th>57462</th>\n",
       "      <td>143158</td>\n",
       "      <td>swashbuckle.aspnetcore</td>\n",
       "      <td>1</td>\n",
       "      <td>NaN</td>\n",
       "      <td>NaN</td>\n",
       "    </tr>\n",
       "    <tr>\n",
       "      <th>57463</th>\n",
       "      <td>143159</td>\n",
       "      <td>pointdns</td>\n",
       "      <td>1</td>\n",
       "      <td>NaN</td>\n",
       "      <td>NaN</td>\n",
       "    </tr>\n",
       "  </tbody>\n",
       "</table>\n",
       "<p>57464 rows × 5 columns</p>\n",
       "</div>"
      ],
      "text/plain": [
       "           Id                   TagName    Count  ExcerptPostId  WikiPostId\n",
       "0           1                      .net   293379      3624959.0   3607476.0\n",
       "1           2                      html   970699      3673183.0   3673182.0\n",
       "2           3                javascript  1955557      3624960.0   3607052.0\n",
       "3           4                       css   649436      3644670.0   3644669.0\n",
       "4           5                       php  1335050      3624936.0   3607050.0\n",
       "...       ...                       ...      ...            ...         ...\n",
       "57459  143155                 next-jdbc        1            NaN         NaN\n",
       "57460  143156  android-jetpack-security        1     60470204.0  60470203.0\n",
       "57461  143157            android-kotlin        0            NaN         NaN\n",
       "57462  143158    swashbuckle.aspnetcore        1            NaN         NaN\n",
       "57463  143159                  pointdns        1            NaN         NaN\n",
       "\n",
       "[57464 rows x 5 columns]"
      ]
     },
     "metadata": {},
     "output_type": "display_data"
    }
   ],
   "source": [
    "display(df2)"
   ]
  },
  {
   "cell_type": "markdown",
   "metadata": {},
   "source": [
    "### Users.xml - "
   ]
  },
  {
   "cell_type": "code",
   "execution_count": 49,
   "metadata": {},
   "outputs": [],
   "source": [
    "xtree = et.parse(\"./data/Users.xml\")\n",
    "xroot = xtree.getroot()"
   ]
  },
  {
   "cell_type": "markdown",
   "metadata": {},
   "source": [
    "#### Using the above created Function(parse_xml) to get dataframe"
   ]
  },
  {
   "cell_type": "code",
   "execution_count": 52,
   "metadata": {},
   "outputs": [],
   "source": [
    "df = parse_xml(\"./data/Users.xml\", [\"Id\", \"Reputation\", \"CreationDate\", \"DisplayName\",\"LastAccessDate\",\"WebsiteUrl\",\"Location\",\n",
    "                                    \"AboutMe\", \"Views\",\"UpVotes\",\"DownVotes\",\"AccountId\"\n",
    "                                   ])"
   ]
  },
  {
   "cell_type": "code",
   "execution_count": 53,
   "metadata": {},
   "outputs": [
    {
     "data": {
      "text/html": [
       "<div>\n",
       "<style scoped>\n",
       "    .dataframe tbody tr th:only-of-type {\n",
       "        vertical-align: middle;\n",
       "    }\n",
       "\n",
       "    .dataframe tbody tr th {\n",
       "        vertical-align: top;\n",
       "    }\n",
       "\n",
       "    .dataframe thead th {\n",
       "        text-align: right;\n",
       "    }\n",
       "</style>\n",
       "<table border=\"1\" class=\"dataframe\">\n",
       "  <thead>\n",
       "    <tr style=\"text-align: right;\">\n",
       "      <th></th>\n",
       "      <th>Id</th>\n",
       "      <th>Reputation</th>\n",
       "      <th>CreationDate</th>\n",
       "      <th>DisplayName</th>\n",
       "      <th>LastAccessDate</th>\n",
       "      <th>WebsiteUrl</th>\n",
       "      <th>Location</th>\n",
       "      <th>AboutMe</th>\n",
       "      <th>Views</th>\n",
       "      <th>UpVotes</th>\n",
       "      <th>DownVotes</th>\n",
       "      <th>AccountId</th>\n",
       "    </tr>\n",
       "  </thead>\n",
       "  <tbody>\n",
       "    <tr>\n",
       "      <th>0</th>\n",
       "      <td>1</td>\n",
       "      <td>58679</td>\n",
       "      <td>2008-07-31T14:22:31.287</td>\n",
       "      <td>Jeff Atwood</td>\n",
       "      <td>2020-02-26T23:04:34.223</td>\n",
       "      <td>http://www.codinghorror.com/blog/</td>\n",
       "      <td>El Cerrito, CA</td>\n",
       "      <td>&lt;p&gt;&lt;a href=\"http://www.codinghorror.com/blog/a...</td>\n",
       "      <td>532726</td>\n",
       "      <td>3378</td>\n",
       "      <td>1311</td>\n",
       "      <td>1</td>\n",
       "    </tr>\n",
       "    <tr>\n",
       "      <th>1</th>\n",
       "      <td>4</td>\n",
       "      <td>31720</td>\n",
       "      <td>2008-07-31T14:22:31.317</td>\n",
       "      <td>Joel Spolsky</td>\n",
       "      <td>2020-02-29T18:22:56.427</td>\n",
       "      <td>https://joelonsoftware.com/</td>\n",
       "      <td>New York, NY</td>\n",
       "      <td>&lt;p&gt;In 2000 I co-founded Fog Creek Software, wh...</td>\n",
       "      <td>77635</td>\n",
       "      <td>814</td>\n",
       "      <td>96</td>\n",
       "      <td>4</td>\n",
       "    </tr>\n",
       "    <tr>\n",
       "      <th>2</th>\n",
       "      <td>13</td>\n",
       "      <td>194621</td>\n",
       "      <td>2008-08-01T04:18:04.943</td>\n",
       "      <td>Chris Jester-Young</td>\n",
       "      <td>2019-12-03T01:13:11.627</td>\n",
       "      <td>http://about.cky.nz/</td>\n",
       "      <td>Raleigh, NC, USA</td>\n",
       "      <td>&lt;p&gt;I use they/them to refer to myself in the t...</td>\n",
       "      <td>39977</td>\n",
       "      <td>5206</td>\n",
       "      <td>210</td>\n",
       "      <td>9</td>\n",
       "    </tr>\n",
       "    <tr>\n",
       "      <th>3</th>\n",
       "      <td>17</td>\n",
       "      <td>50531</td>\n",
       "      <td>2008-08-01T12:02:21.617</td>\n",
       "      <td>Nick Berardi</td>\n",
       "      <td>2020-02-28T14:38:17.133</td>\n",
       "      <td>http://nickberardi.com</td>\n",
       "      <td>Issaquah, WA</td>\n",
       "      <td>&lt;p&gt;In my spare time when not working as a soft...</td>\n",
       "      <td>5155</td>\n",
       "      <td>885</td>\n",
       "      <td>216</td>\n",
       "      <td>12</td>\n",
       "    </tr>\n",
       "    <tr>\n",
       "      <th>4</th>\n",
       "      <td>25</td>\n",
       "      <td>31334</td>\n",
       "      <td>2008-08-01T12:15:23.243</td>\n",
       "      <td>CodingWithoutComments</td>\n",
       "      <td>2018-05-03T20:41:05.130</td>\n",
       "      <td></td>\n",
       "      <td>Seattle, Washington United States</td>\n",
       "      <td>&lt;p&gt;a man, a plan, a canal, panama&lt;/p&gt;\\n</td>\n",
       "      <td>4246</td>\n",
       "      <td>539</td>\n",
       "      <td>83</td>\n",
       "      <td>18</td>\n",
       "    </tr>\n",
       "    <tr>\n",
       "      <th>...</th>\n",
       "      <td>...</td>\n",
       "      <td>...</td>\n",
       "      <td>...</td>\n",
       "      <td>...</td>\n",
       "      <td>...</td>\n",
       "      <td>...</td>\n",
       "      <td>...</td>\n",
       "      <td>...</td>\n",
       "      <td>...</td>\n",
       "      <td>...</td>\n",
       "      <td>...</td>\n",
       "      <td>...</td>\n",
       "    </tr>\n",
       "    <tr>\n",
       "      <th>670390</th>\n",
       "      <td>12987137</td>\n",
       "      <td>1</td>\n",
       "      <td>2020-03-01T05:55:38.937</td>\n",
       "      <td>jerry jose</td>\n",
       "      <td>2020-03-01T06:10:42.130</td>\n",
       "      <td>None</td>\n",
       "      <td>None</td>\n",
       "      <td>None</td>\n",
       "      <td>2</td>\n",
       "      <td>0</td>\n",
       "      <td>0</td>\n",
       "      <td>17877497</td>\n",
       "    </tr>\n",
       "    <tr>\n",
       "      <th>670391</th>\n",
       "      <td>12987222</td>\n",
       "      <td>1</td>\n",
       "      <td>2020-03-01T06:32:35.157</td>\n",
       "      <td>colin creevey</td>\n",
       "      <td>2020-03-01T06:32:35.157</td>\n",
       "      <td>None</td>\n",
       "      <td>None</td>\n",
       "      <td>None</td>\n",
       "      <td>0</td>\n",
       "      <td>0</td>\n",
       "      <td>0</td>\n",
       "      <td>17877616</td>\n",
       "    </tr>\n",
       "    <tr>\n",
       "      <th>670392</th>\n",
       "      <td>12987240</td>\n",
       "      <td>1</td>\n",
       "      <td>2020-03-01T06:38:37.043</td>\n",
       "      <td>ZachGutz</td>\n",
       "      <td>2020-03-01T06:54:11.780</td>\n",
       "      <td>None</td>\n",
       "      <td>None</td>\n",
       "      <td>None</td>\n",
       "      <td>0</td>\n",
       "      <td>0</td>\n",
       "      <td>0</td>\n",
       "      <td>17877637</td>\n",
       "    </tr>\n",
       "    <tr>\n",
       "      <th>670393</th>\n",
       "      <td>12987253</td>\n",
       "      <td>1</td>\n",
       "      <td>2020-03-01T06:43:50.813</td>\n",
       "      <td>Piyush Sharma</td>\n",
       "      <td>2020-03-01T07:04:40.213</td>\n",
       "      <td>None</td>\n",
       "      <td>None</td>\n",
       "      <td>None</td>\n",
       "      <td>0</td>\n",
       "      <td>0</td>\n",
       "      <td>0</td>\n",
       "      <td>17877657</td>\n",
       "    </tr>\n",
       "    <tr>\n",
       "      <th>670394</th>\n",
       "      <td>12987266</td>\n",
       "      <td>1</td>\n",
       "      <td>2020-03-01T06:48:25.807</td>\n",
       "      <td>nonoumasy</td>\n",
       "      <td>2020-03-01T06:48:25.807</td>\n",
       "      <td>None</td>\n",
       "      <td>None</td>\n",
       "      <td>None</td>\n",
       "      <td>0</td>\n",
       "      <td>0</td>\n",
       "      <td>0</td>\n",
       "      <td>17877675</td>\n",
       "    </tr>\n",
       "  </tbody>\n",
       "</table>\n",
       "<p>670395 rows × 12 columns</p>\n",
       "</div>"
      ],
      "text/plain": [
       "              Id Reputation             CreationDate            DisplayName  \\\n",
       "0              1      58679  2008-07-31T14:22:31.287            Jeff Atwood   \n",
       "1              4      31720  2008-07-31T14:22:31.317           Joel Spolsky   \n",
       "2             13     194621  2008-08-01T04:18:04.943     Chris Jester-Young   \n",
       "3             17      50531  2008-08-01T12:02:21.617           Nick Berardi   \n",
       "4             25      31334  2008-08-01T12:15:23.243  CodingWithoutComments   \n",
       "...          ...        ...                      ...                    ...   \n",
       "670390  12987137          1  2020-03-01T05:55:38.937             jerry jose   \n",
       "670391  12987222          1  2020-03-01T06:32:35.157          colin creevey   \n",
       "670392  12987240          1  2020-03-01T06:38:37.043               ZachGutz   \n",
       "670393  12987253          1  2020-03-01T06:43:50.813          Piyush Sharma   \n",
       "670394  12987266          1  2020-03-01T06:48:25.807              nonoumasy   \n",
       "\n",
       "                 LastAccessDate                         WebsiteUrl  \\\n",
       "0       2020-02-26T23:04:34.223  http://www.codinghorror.com/blog/   \n",
       "1       2020-02-29T18:22:56.427        https://joelonsoftware.com/   \n",
       "2       2019-12-03T01:13:11.627               http://about.cky.nz/   \n",
       "3       2020-02-28T14:38:17.133             http://nickberardi.com   \n",
       "4       2018-05-03T20:41:05.130                                      \n",
       "...                         ...                                ...   \n",
       "670390  2020-03-01T06:10:42.130                               None   \n",
       "670391  2020-03-01T06:32:35.157                               None   \n",
       "670392  2020-03-01T06:54:11.780                               None   \n",
       "670393  2020-03-01T07:04:40.213                               None   \n",
       "670394  2020-03-01T06:48:25.807                               None   \n",
       "\n",
       "                                 Location  \\\n",
       "0                          El Cerrito, CA   \n",
       "1                            New York, NY   \n",
       "2                        Raleigh, NC, USA   \n",
       "3                            Issaquah, WA   \n",
       "4       Seattle, Washington United States   \n",
       "...                                   ...   \n",
       "670390                               None   \n",
       "670391                               None   \n",
       "670392                               None   \n",
       "670393                               None   \n",
       "670394                               None   \n",
       "\n",
       "                                                  AboutMe   Views UpVotes  \\\n",
       "0       <p><a href=\"http://www.codinghorror.com/blog/a...  532726    3378   \n",
       "1       <p>In 2000 I co-founded Fog Creek Software, wh...   77635     814   \n",
       "2       <p>I use they/them to refer to myself in the t...   39977    5206   \n",
       "3       <p>In my spare time when not working as a soft...    5155     885   \n",
       "4                 <p>a man, a plan, a canal, panama</p>\\n    4246     539   \n",
       "...                                                   ...     ...     ...   \n",
       "670390                                               None       2       0   \n",
       "670391                                               None       0       0   \n",
       "670392                                               None       0       0   \n",
       "670393                                               None       0       0   \n",
       "670394                                               None       0       0   \n",
       "\n",
       "       DownVotes AccountId  \n",
       "0           1311         1  \n",
       "1             96         4  \n",
       "2            210         9  \n",
       "3            216        12  \n",
       "4             83        18  \n",
       "...          ...       ...  \n",
       "670390         0  17877497  \n",
       "670391         0  17877616  \n",
       "670392         0  17877637  \n",
       "670393         0  17877657  \n",
       "670394         0  17877675  \n",
       "\n",
       "[670395 rows x 12 columns]"
      ]
     },
     "metadata": {},
     "output_type": "display_data"
    }
   ],
   "source": [
    "display(df)"
   ]
  },
  {
   "cell_type": "code",
   "execution_count": 54,
   "metadata": {},
   "outputs": [],
   "source": [
    "out = df.to_json(orient='records')[1:-1].replace('},{', '}\\n {')\n",
    "with open('./data/Users.json', 'w') as f:\n",
    "    f.write(out)"
   ]
  },
  {
   "cell_type": "code",
   "execution_count": 55,
   "metadata": {},
   "outputs": [],
   "source": [
    "df2 = pd.read_json(\"./data/Tags.json\",lines = True)"
   ]
  },
  {
   "cell_type": "code",
   "execution_count": null,
   "metadata": {},
   "outputs": [],
   "source": []
  },
  {
   "cell_type": "markdown",
   "metadata": {},
   "source": [
    "#### Above function worked fine for small files , however for big files(the other 3) OOM error appeared\n",
    "#### For the other 3 files used the iter parse method in Element tree"
   ]
  },
  {
   "cell_type": "markdown",
   "metadata": {},
   "source": [
    "### Function to convert XML to dataframe for large files"
   ]
  },
  {
   "cell_type": "code",
   "execution_count": 15,
   "metadata": {},
   "outputs": [],
   "source": [
    "def xml2df(file_path,df_cols):\n",
    "    dict_list = []\n",
    "    i = 0\n",
    "    with open(file_path, \"rb\") as f:\n",
    "        for _, elem in etree.iterparse(f, events=(\"end\",\"start\")):\n",
    "            if elem.tag == \"row\":\n",
    "                \n",
    "                res = []\n",
    "                res.append(elem.attrib.get(df_cols[0]))\n",
    "                for el in df_cols[1:]: \n",
    "                    if elem is not None and elem.attrib.get(el) is not None:\n",
    "                        res.append(elem.attrib.get(el))\n",
    "                    else: \n",
    "                        res.append(None)\n",
    "                dict_list.append({df_cols[i]: res[i] \n",
    "                        for i, _ in enumerate(df_cols)})\n",
    "                    \n",
    "                elem.clear()  \n",
    "                \n",
    "    out_df = pd.DataFrame(dict_list, columns=df_cols)\n",
    "    return out_df"
   ]
  },
  {
   "cell_type": "markdown",
   "metadata": {},
   "source": [
    "### Posts.xml- "
   ]
  },
  {
   "cell_type": "code",
   "execution_count": 16,
   "metadata": {},
   "outputs": [],
   "source": [
    "df = xml2df(\"./data/Posts.xml\",[\"Id\",\"PostTypeId\",\"AcceptedAnswerId\",\"CreationDate\",\"Score\",\"ViewCount\",\"Body\",\"OwnerUserId\",\n",
    "                                    \"LastEditorUserId\",\"LastEditDate\",\"LastActivityDate\",\"Title\",\"Tags\",\"AnswerCount\",\n",
    "                                    \"CommentCount\",\"FavoriteCount\",\"ClosedDate\"\n",
    "                                   ])"
   ]
  },
  {
   "cell_type": "markdown",
   "metadata": {},
   "source": [
    "#### Converted Posts dataframe to Posts.csv (Posts.json resulted in kernel dying)"
   ]
  },
  {
   "cell_type": "code",
   "execution_count": null,
   "metadata": {},
   "outputs": [],
   "source": [
    "df.to_csv(\"Posts.csv\")"
   ]
  },
  {
   "cell_type": "markdown",
   "metadata": {},
   "source": [
    "#### Converting csv to json -"
   ]
  },
  {
   "cell_type": "code",
   "execution_count": null,
   "metadata": {},
   "outputs": [],
   "source": [
    "csvfile = open('./data/Posts.csv')\n",
    "jsonfile = open('./data/Posts.json')\n",
    "\n",
    "fieldnames = df.columns\n",
    "\n",
    "reader = csv.DictReader( csvfile, fieldnames)\n",
    "for row in reader:\n",
    "    json.dump(row, jsonfile)\n",
    "    jsonfile.write('\\n')"
   ]
  },
  {
   "cell_type": "markdown",
   "metadata": {},
   "source": [
    "### Badges.xml:"
   ]
  },
  {
   "cell_type": "code",
   "execution_count": null,
   "metadata": {},
   "outputs": [],
   "source": [
    "df  = xml2df(\"./data/Badges.xml\",[\"Id\",\"rowId\",\"UserId\",\"Name\",\"Date\",\"Class\",\"TagBased\"])\n",
    "df.to_csv(\"Badges.csv\")"
   ]
  },
  {
   "cell_type": "markdown",
   "metadata": {},
   "source": [
    "#### Badges.json using Badges.csv"
   ]
  },
  {
   "cell_type": "code",
   "execution_count": 1,
   "metadata": {},
   "outputs": [],
   "source": [
    "csvfile = open('./data/Badges.csv', 'r')\n",
    "jsonfile = open('./data/Badges.json', 'w')\n",
    "\n",
    "fieldnames = (\"Id\",\"rowId\",\"UserId\",\"Name\",\"Date\",\"Class\",\"TagBased\")\n",
    "reader = csv.DictReader( csvfile, fieldnames)\n",
    "for row in reader:\n",
    "    json.dump(row, jsonfile)\n",
    "    jsonfile.write('\\n')"
   ]
  },
  {
   "cell_type": "markdown",
   "metadata": {},
   "source": [
    "### Votes.xml:"
   ]
  },
  {
   "cell_type": "code",
   "execution_count": null,
   "metadata": {},
   "outputs": [],
   "source": [
    "df = xml2df(\"./Votes.xml\",[\"Id\" , \"PostId\" , \"VoteTypeId\" , \"CreationDate\"])\n",
    "df.to_csv(\"Votes.csv\")"
   ]
  },
  {
   "cell_type": "markdown",
   "metadata": {},
   "source": [
    "#### Votes.json using Votes.csv"
   ]
  },
  {
   "cell_type": "code",
   "execution_count": 2,
   "metadata": {},
   "outputs": [],
   "source": [
    "csvfile = open('./data/Votes.csv', 'r')\n",
    "jsonfile = open('./data/Votes.json', 'w')\n",
    "\n",
    "fieldnames = (\"_id\",\"Id\",\"PostId\",\"VoteTypeID\",\"CreationDate\")\n",
    "\n",
    "reader = csv.DictReader( csvfile, fieldnames)\n",
    "for row in reader:\n",
    "    json.dump(row, jsonfile)\n",
    "    jsonfile.write('\\n')"
   ]
  },
  {
   "cell_type": "markdown",
   "metadata": {},
   "source": [
    "NOTE : After Collecting all the json files(Badges.json,Tags.json,Users.json,Votes.json and Posts.json) imported it into mongodb database (called precog) stored locally on my system using command line.\n",
    "\n",
    "Command used :\n",
    "\n",
    "mongoimport --db <database name> --collection <collection name>  --file <json file name> --batchsize 1\n",
    "\n",
    "  "
   ]
  }
 ],
 "metadata": {
  "kernelspec": {
   "display_name": "Python 3",
   "language": "python",
   "name": "python3"
  },
  "language_info": {
   "codemirror_mode": {
    "name": "ipython",
    "version": 3
   },
   "file_extension": ".py",
   "mimetype": "text/x-python",
   "name": "python",
   "nbconvert_exporter": "python",
   "pygments_lexer": "ipython3",
   "version": "3.7.9"
  }
 },
 "nbformat": 4,
 "nbformat_minor": 4
}
